{
 "cells": [
  {
   "cell_type": "markdown",
   "id": "d2731b13",
   "metadata": {},
   "source": [
    "# Joins Bonus Python to wish eveyone a Happy Christmas"
   ]
  },
  {
   "cell_type": "code",
   "execution_count": null,
   "id": "4b72386a",
   "metadata": {},
   "outputs": [],
   "source": [
    "conda install -c \"conda-forge/label/cf201901\" pyjanitor"
   ]
  },
  {
   "cell_type": "code",
   "execution_count": null,
   "id": "47d3838a",
   "metadata": {},
   "outputs": [],
   "source": [
    "import pandas as pd\n",
    "\n",
    "from janitor import clean_names"
   ]
  },
  {
   "cell_type": "code",
   "execution_count": null,
   "id": "4b20dc30",
   "metadata": {},
   "outputs": [],
   "source": [
    "CardBase = pd.read_csv(\"data/CardBase.csv\").Clean_names()\n",
    "CustomerBase = pd.read_csv(\"data/CardBase.csv\").Clean_names()\n",
    "FraudBase = pd.read_csv(\"data/CardBase.csv\").Clean_names()\n",
    "TransactionBase = pd.read_csv(\"data/CardBase.csv\").Clean_names()"
   ]
  },
  {
   "cell_type": "code",
   "execution_count": null,
   "id": "05ba9f90",
   "metadata": {},
   "outputs": [],
   "source": [
    "\n"
   ]
  },
  {
   "cell_type": "code",
   "execution_count": null,
   "id": "6ffd4caa",
   "metadata": {},
   "outputs": [],
   "source": [
    "CustomerBase.head()\n"
   ]
  },
  {
   "cell_type": "code",
   "execution_count": null,
   "id": "bbf98d49",
   "metadata": {},
   "outputs": [],
   "source": []
  },
  {
   "cell_type": "code",
   "execution_count": null,
   "id": "e929dbf9",
   "metadata": {},
   "outputs": [],
   "source": []
  },
  {
   "cell_type": "code",
   "execution_count": null,
   "id": "21a7688d",
   "metadata": {},
   "outputs": [],
   "source": []
  }
 ],
 "metadata": {
  "kernelspec": {
   "display_name": "Python 3 (ipykernel)",
   "language": "python",
   "name": "python3"
  },
  "language_info": {
   "codemirror_mode": {
    "name": "ipython",
    "version": 3
   },
   "file_extension": ".py",
   "mimetype": "text/x-python",
   "name": "python",
   "nbconvert_exporter": "python",
   "pygments_lexer": "ipython3",
   "version": "3.9.12"
  },
  "varInspector": {
   "cols": {
    "lenName": 16,
    "lenType": 16,
    "lenVar": 40
   },
   "kernels_config": {
    "python": {
     "delete_cmd_postfix": "",
     "delete_cmd_prefix": "del ",
     "library": "var_list.py",
     "varRefreshCmd": "print(var_dic_list())"
    },
    "r": {
     "delete_cmd_postfix": ") ",
     "delete_cmd_prefix": "rm(",
     "library": "var_list.r",
     "varRefreshCmd": "cat(var_dic_list()) "
    }
   },
   "types_to_exclude": [
    "module",
    "function",
    "builtin_function_or_method",
    "instance",
    "_Feature"
   ],
   "window_display": false
  }
 },
 "nbformat": 4,
 "nbformat_minor": 5
}
