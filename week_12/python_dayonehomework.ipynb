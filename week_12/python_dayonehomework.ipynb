{
 "cells": [
  {
   "cell_type": "markdown",
   "id": "ee4d8b43",
   "metadata": {},
   "source": [
    "# Python Day 1 Homework"
   ]
  },
  {
   "cell_type": "code",
   "execution_count": null,
   "id": "0673297f",
   "metadata": {},
   "outputs": [],
   "source": [
    "shopping_list = ['spam','ham','eggs', 'ham'] \n",
    "shopping_list"
   ]
  },
  {
   "cell_type": "code",
   "execution_count": null,
   "id": "24f98afb",
   "metadata": {},
   "outputs": [],
   "source": [
    "shopping_list = ['spam','ham','eggs', 'ham'] \n",
    "\n",
    "shopping_list\n",
    "\n"
   ]
  },
  {
   "cell_type": "code",
   "execution_count": null,
   "id": "36f5e6a7",
   "metadata": {},
   "outputs": [],
   "source": [
    "shopping_list [1]"
   ]
  },
  {
   "cell_type": "code",
   "execution_count": null,
   "id": "1fc6baf3",
   "metadata": {},
   "outputs": [],
   "source": [
    "shopping_list(range (1,3))"
   ]
  },
  {
   "cell_type": "code",
   "execution_count": null,
   "id": "af4958eb",
   "metadata": {},
   "outputs": [],
   "source": [
    "things = [\"Apple\", \"Grape\", 101, \"Onion\", False]"
   ]
  },
  {
   "cell_type": "code",
   "execution_count": null,
   "id": "2b34ed0c",
   "metadata": {},
   "outputs": [],
   "source": [
    "things"
   ]
  },
  {
   "cell_type": "code",
   "execution_count": null,
   "id": "8127fb92",
   "metadata": {},
   "outputs": [],
   "source": [
    "things[0]"
   ]
  },
  {
   "cell_type": "code",
   "execution_count": null,
   "id": "237e9b40",
   "metadata": {},
   "outputs": [],
   "source": [
    "\n",
    "# Train stops Q2"
   ]
  },
  {
   "cell_type": "code",
   "execution_count": null,
   "id": "cf013e03",
   "metadata": {},
   "outputs": [],
   "source": [
    "train_stops = [\"Croy\", \"Cumbernauld\", \"Falkirk High\", \"Linlithgow\", \"Livingston\", \"Haymarket\"]"
   ]
  },
  {
   "cell_type": "code",
   "execution_count": null,
   "id": "9e120232",
   "metadata": {},
   "outputs": [],
   "source": [
    "train_stops"
   ]
  },
  {
   "cell_type": "code",
   "execution_count": null,
   "id": "021e2d2b",
   "metadata": {},
   "outputs": [],
   "source": [
    "train_stops = [\"Queen Street\", \"Croy\", \"Cumbernauld\", \"Falkirk High\", \"Linlithgow\", \"Livingston\", \"Haymarket\", \"Edinburgh Waverley\"]"
   ]
  },
  {
   "cell_type": "code",
   "execution_count": null,
   "id": "cce97182",
   "metadata": {},
   "outputs": [],
   "source": [
    "train_stops"
   ]
  },
  {
   "cell_type": "code",
   "execution_count": null,
   "id": "5a8edfbc",
   "metadata": {},
   "outputs": [],
   "source": [
    "train_stops.append(\"Brunstane\")\n"
   ]
  },
  {
   "cell_type": "code",
   "execution_count": null,
   "id": "cf635149",
   "metadata": {},
   "outputs": [],
   "source": [
    "train_stops"
   ]
  },
  {
   "cell_type": "code",
   "execution_count": null,
   "id": "70aaea1c",
   "metadata": {},
   "outputs": [],
   "source": [
    "train_stops.remove (\"Haymarket\")"
   ]
  },
  {
   "cell_type": "code",
   "execution_count": null,
   "id": "39159a6e",
   "metadata": {},
   "outputs": [],
   "source": [
    "train_stops"
   ]
  },
  {
   "cell_type": "code",
   "execution_count": null,
   "id": "c12e719a",
   "metadata": {},
   "outputs": [],
   "source": [
    "train_stops.remove(all)"
   ]
  },
  {
   "cell_type": "code",
   "execution_count": null,
   "id": "77081f64",
   "metadata": {},
   "outputs": [],
   "source": [
    "# Question 3 \n"
   ]
  },
  {
   "cell_type": "code",
   "execution_count": null,
   "id": "7b786358",
   "metadata": {},
   "outputs": [],
   "source": [
    "person = {\"name\": \"Steph\", \"age\": 31, \"Instructor\" : True}"
   ]
  },
  {
   "cell_type": "code",
   "execution_count": null,
   "id": "1e57a9be",
   "metadata": {},
   "outputs": [],
   "source": [
    "person"
   ]
  },
  {
   "cell_type": "code",
   "execution_count": null,
   "id": "a1c4377f",
   "metadata": {},
   "outputs": [],
   "source": [
    "person.remove(\"steph\")"
   ]
  },
  {
   "cell_type": "code",
   "execution_count": null,
   "id": "2b1d26e7",
   "metadata": {},
   "outputs": [],
   "source": [
    "person[\"name\"]\n"
   ]
  },
  {
   "cell_type": "code",
   "execution_count": null,
   "id": "21effb6c",
   "metadata": {},
   "outputs": [],
   "source": [
    "person.keys()"
   ]
  },
  {
   "cell_type": "code",
   "execution_count": null,
   "id": "183097a6",
   "metadata": {},
   "outputs": [],
   "source": [
    "person.update({\"emailaddress\": [\"steph@codeclan.com\"]})\n",
    "person.pop(\"age\")\n",
    "person"
   ]
  },
  {
   "cell_type": "code",
   "execution_count": null,
   "id": "404152c1",
   "metadata": {},
   "outputs": [],
   "source": [
    "person.update"
   ]
  },
  {
   "cell_type": "code",
   "execution_count": null,
   "id": "cd11861c",
   "metadata": {},
   "outputs": [],
   "source": [
    "# Question 4"
   ]
  },
  {
   "cell_type": "code",
   "execution_count": null,
   "id": "2d3170af",
   "metadata": {},
   "outputs": [],
   "source": [
    "numbers = [1, 6, 2, 2, 7, 1, 6, 13, 99, 7]"
   ]
  },
  {
   "cell_type": "code",
   "execution_count": null,
   "id": "91ef2f5a",
   "metadata": {},
   "outputs": [],
   "source": [
    "numbers"
   ]
  },
  {
   "cell_type": "code",
   "execution_count": null,
   "id": "8588d28c",
   "metadata": {},
   "outputs": [],
   "source": [
    "numbers.sort()"
   ]
  },
  {
   "cell_type": "code",
   "execution_count": null,
   "id": "69495c18",
   "metadata": {},
   "outputs": [],
   "source": []
  },
  {
   "cell_type": "code",
   "execution_count": null,
   "id": "6902eae3",
   "metadata": {},
   "outputs": [],
   "source": [
    "numbers"
   ]
  },
  {
   "cell_type": "code",
   "execution_count": null,
   "id": "fcb044d2",
   "metadata": {},
   "outputs": [],
   "source": [
    "primes = (1)"
   ]
  },
  {
   "cell_type": "code",
   "execution_count": null,
   "id": "78228e73",
   "metadata": {},
   "outputs": [],
   "source": [
    "numbers"
   ]
  },
  {
   "cell_type": "code",
   "execution_count": null,
   "id": "58f781db",
   "metadata": {},
   "outputs": [],
   "source": [
    "primes.extend([11, 13, 17])"
   ]
  },
  {
   "cell_type": "code",
   "execution_count": null,
   "id": "be84501d",
   "metadata": {},
   "outputs": [],
   "source": [
    "sum(numbers)"
   ]
  },
  {
   "cell_type": "markdown",
   "id": "184303c5",
   "metadata": {},
   "source": [
    "# Question 5"
   ]
  },
  {
   "cell_type": "code",
   "execution_count": null,
   "id": "79d4a16c",
   "metadata": {},
   "outputs": [],
   "source": [
    "love = \"python is fun\"\n",
    "\n",
    "if love == \"python is fund\":\n",
    "    print(\"python is fun\")\n",
    "else:\n",
    "    print(\"python is weird\")"
   ]
  },
  {
   "cell_type": "code",
   "execution_count": null,
   "id": "ac12010b",
   "metadata": {},
   "outputs": [],
   "source": [
    "weird = \"python is weird\"\n",
    "\n",
    "if weird == \"python is weird\":\n",
    "    print(\"python is way weird man\")\n",
    "else:\n",
    "    print(\"python is way weird man\")"
   ]
  },
  {
   "cell_type": "code",
   "execution_count": null,
   "id": "09c2ead4",
   "metadata": {},
   "outputs": [],
   "source": [
    "unsure = \"python is not for me\"\n",
    "\n",
    "if unsure == \"python is not for me\":\n",
    "    print(\"python is not for me\")\n",
    "else:\n",
    "    print(\"python is not for me\")"
   ]
  },
  {
   "cell_type": "code",
   "execution_count": null,
   "id": "8b89c075",
   "metadata": {},
   "outputs": [],
   "source": []
  },
  {
   "cell_type": "code",
   "execution_count": null,
   "id": "1ff5e2df",
   "metadata": {},
   "outputs": [],
   "source": []
  },
  {
   "cell_type": "markdown",
   "id": "bd8910d0",
   "metadata": {},
   "source": [
    "# Question 6 Chicken Names"
   ]
  },
  {
   "cell_type": "code",
   "execution_count": null,
   "id": "2e0da535",
   "metadata": {},
   "outputs": [],
   "source": [
    "chickens = [\n",
    "  { \"name\": \"Margaret\", \"age\": 2, \"eggs\": 0 },\n",
    "  { \"name\": \"Hetty\", \"age\": 1, \"eggs\": 2 },\n",
    "  { \"name\": \"Henrietta\", \"age\": 3, \"eggs\": 1 },\n",
    "  { \"name\": \"Audrey\", \"age\": 2, \"eggs\": 0 },\n",
    "  { \"name\": \"Mabel\", \"age\": 5, \"eggs\": 1 },\n",
    "]total_eggs = \n",
    "\n",
    "for chicken in chickens:\n",
    "    total_eggs = chicken[\"eggs\"]\n",
    "    chicken[\"eggs\"] = \n",
    "\n",
    "print(f\"{total_eggs} eggs collected\")"
   ]
  },
  {
   "cell_type": "code",
   "execution_count": null,
   "id": "1d1fdc41",
   "metadata": {},
   "outputs": [],
   "source": [
    "chickens"
   ]
  },
  {
   "cell_type": "code",
   "execution_count": 3,
   "id": "cfa45d7b",
   "metadata": {},
   "outputs": [
    {
     "name": "stdout",
     "output_type": "stream",
     "text": [
      "Margaret\n",
      "2\n",
      "['0']\n"
     ]
    }
   ],
   "source": [
    "chicken = {\n",
    "\t\"name\": \"Margaret\",\n",
    "\t\"age\": 2,\n",
    "\t\"eggs\": [\"0\"]\n",
    "}\n",
    "\n",
    "for value in chicken.values():\n",
    "\tprint(value)"
   ]
  },
  {
   "cell_type": "code",
   "execution_count": 5,
   "id": "0ee2ca8c",
   "metadata": {},
   "outputs": [
    {
     "data": {
      "text/plain": [
       "{'name': 'Margaret', 'age': 2, 'eggs': ['0']}"
      ]
     },
     "execution_count": 5,
     "metadata": {},
     "output_type": "execute_result"
    }
   ],
   "source": [
    "chicken"
   ]
  },
  {
   "cell_type": "code",
   "execution_count": 4,
   "id": "1416eb3f",
   "metadata": {},
   "outputs": [
    {
     "ename": "TypeError",
     "evalue": "string indices must be integers",
     "output_type": "error",
     "traceback": [
      "\u001b[1;31m---------------------------------------------------------------------------\u001b[0m",
      "\u001b[1;31mTypeError\u001b[0m                                 Traceback (most recent call last)",
      "Input \u001b[1;32mIn [4]\u001b[0m, in \u001b[0;36m<cell line: 4>\u001b[1;34m()\u001b[0m\n\u001b[0;32m      2\u001b[0m total_eggs \u001b[38;5;241m=\u001b[39m \u001b[38;5;241m0\u001b[39m\n\u001b[0;32m      4\u001b[0m \u001b[38;5;28;01mfor\u001b[39;00m chicken \u001b[38;5;129;01min\u001b[39;00m chickens:\n\u001b[1;32m----> 5\u001b[0m     total_eggs \u001b[38;5;241m+\u001b[39m\u001b[38;5;241m=\u001b[39m \u001b[43mchicken\u001b[49m\u001b[43m[\u001b[49m\u001b[38;5;124;43m\"\u001b[39;49m\u001b[38;5;124;43meggs\u001b[39;49m\u001b[38;5;124;43m\"\u001b[39;49m\u001b[43m]\u001b[49m\n\u001b[0;32m      6\u001b[0m     chicken[\u001b[38;5;124m\"\u001b[39m\u001b[38;5;124meggs\u001b[39m\u001b[38;5;124m\"\u001b[39m] \u001b[38;5;241m=\u001b[39m \u001b[38;5;241m0\u001b[39m \u001b[38;5;66;03m# eggs have been collected\u001b[39;00m\n\u001b[0;32m      8\u001b[0m \u001b[38;5;28mprint\u001b[39m(\u001b[38;5;124mf\u001b[39m\u001b[38;5;124m\"\u001b[39m\u001b[38;5;132;01m{\u001b[39;00mtotal_eggs\u001b[38;5;132;01m}\u001b[39;00m\u001b[38;5;124m eggs collected\u001b[39m\u001b[38;5;124m\"\u001b[39m)\n",
      "\u001b[1;31mTypeError\u001b[0m: string indices must be integers"
     ]
    }
   ],
   "source": [
    "chickens\n",
    "total_eggs = 0\n",
    "\n",
    "for chicken in chickens:\n",
    "    total_eggs += chicken[\"eggs\"]\n",
    "    chicken[\"eggs\"] = 0 # eggs have been collected\n",
    "\n",
    "print(f\"{total_eggs} eggs collected\")"
   ]
  },
  {
   "cell_type": "code",
   "execution_count": null,
   "id": "f1504986",
   "metadata": {},
   "outputs": [],
   "source": []
  }
 ],
 "metadata": {
  "kernelspec": {
   "display_name": "Python 3 (ipykernel)",
   "language": "python",
   "name": "python3"
  },
  "language_info": {
   "codemirror_mode": {
    "name": "ipython",
    "version": 3
   },
   "file_extension": ".py",
   "mimetype": "text/x-python",
   "name": "python",
   "nbconvert_exporter": "python",
   "pygments_lexer": "ipython3",
   "version": "3.9.12"
  },
  "varInspector": {
   "cols": {
    "lenName": 16,
    "lenType": 16,
    "lenVar": 40
   },
   "kernels_config": {
    "python": {
     "delete_cmd_postfix": "",
     "delete_cmd_prefix": "del ",
     "library": "var_list.py",
     "varRefreshCmd": "print(var_dic_list())"
    },
    "r": {
     "delete_cmd_postfix": ") ",
     "delete_cmd_prefix": "rm(",
     "library": "var_list.r",
     "varRefreshCmd": "cat(var_dic_list()) "
    }
   },
   "types_to_exclude": [
    "module",
    "function",
    "builtin_function_or_method",
    "instance",
    "_Feature"
   ],
   "window_display": false
  }
 },
 "nbformat": 4,
 "nbformat_minor": 5
}
