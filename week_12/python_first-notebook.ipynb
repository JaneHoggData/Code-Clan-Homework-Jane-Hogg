{
 "cells": [
  {
   "cell_type": "markdown",
   "id": "da88b21a",
   "metadata": {},
   "source": [
    "# Headings\n",
    "Today we are learning python programming and it seems to be a lot easier to integrate code and text to explain the area your are working on \n"
   ]
  },
  {
   "cell_type": "markdown",
   "id": "bb8e5fea",
   "metadata": {},
   "source": []
  },
  {
   "cell_type": "code",
   "execution_count": null,
   "id": "44ac37bb",
   "metadata": {},
   "outputs": [],
   "source": [
    "my_first_var = \"None\""
   ]
  },
  {
   "cell_type": "code",
   "execution_count": null,
   "id": "bf585de5",
   "metadata": {},
   "outputs": [],
   "source": [
    "my_first_var"
   ]
  },
  {
   "cell_type": "code",
   "execution_count": null,
   "id": "5deaee2a",
   "metadata": {},
   "outputs": [],
   "source": [
    "type(my_first_var)"
   ]
  },
  {
   "cell_type": "code",
   "execution_count": null,
   "id": "063fdcdd",
   "metadata": {},
   "outputs": [],
   "source": [
    "my_first_list = [\"Codeclan\", 10,10.54, True,None]"
   ]
  },
  {
   "cell_type": "code",
   "execution_count": null,
   "id": "80a9fccc",
   "metadata": {},
   "outputs": [],
   "source": [
    "type[my_first_list]"
   ]
  },
  {
   "cell_type": "code",
   "execution_count": null,
   "id": "de75f12c",
   "metadata": {},
   "outputs": [],
   "source": [
    "my_first_list [-3]"
   ]
  },
  {
   "cell_type": "code",
   "execution_count": null,
   "id": "c68f07fe",
   "metadata": {},
   "outputs": [],
   "source": [
    "my_first_list[2:4]"
   ]
  },
  {
   "cell_type": "code",
   "execution_count": 4,
   "id": "2760c104",
   "metadata": {},
   "outputs": [],
   "source": [
    "example_list = [[ 10,2,],\"Hello\", 10.0, None,False]"
   ]
  },
  {
   "cell_type": "code",
   "execution_count": 5,
   "id": "11c4fd19",
   "metadata": {},
   "outputs": [
    {
     "data": {
      "text/plain": [
       "[[10, 2], 'Hello', 10.0, None, False]"
      ]
     },
     "execution_count": 5,
     "metadata": {},
     "output_type": "execute_result"
    }
   ],
   "source": [
    "example_list"
   ]
  },
  {
   "cell_type": "code",
   "execution_count": null,
   "id": "9c7ce6c5",
   "metadata": {},
   "outputs": [],
   "source": [
    "example_list[0],[1]"
   ]
  },
  {
   "cell_type": "code",
   "execution_count": 11,
   "id": "d343427f",
   "metadata": {},
   "outputs": [],
   "source": [
    "list_2 = [1,2,3,4,5,6]"
   ]
  },
  {
   "cell_type": "code",
   "execution_count": 12,
   "id": "753d176e",
   "metadata": {},
   "outputs": [
    {
     "data": {
      "text/plain": [
       "21"
      ]
     },
     "execution_count": 12,
     "metadata": {},
     "output_type": "execute_result"
    }
   ],
   "source": [
    "sum(list_2)"
   ]
  },
  {
   "cell_type": "code",
   "execution_count": null,
   "id": "99b10783",
   "metadata": {},
   "outputs": [],
   "source": [
    "new_list = list_2.sort()\n",
    "list_2"
   ]
  },
  {
   "cell_type": "code",
   "execution_count": null,
   "id": "0c522c24",
   "metadata": {},
   "outputs": [],
   "source": [
    "sorted (list_2)"
   ]
  },
  {
   "cell_type": "code",
   "execution_count": null,
   "id": "83ce9377",
   "metadata": {},
   "outputs": [],
   "source": [
    "list_2.append(100)\n",
    "list_2"
   ]
  },
  {
   "cell_type": "code",
   "execution_count": 10,
   "id": "0e967abf",
   "metadata": {},
   "outputs": [
    {
     "ename": "NameError",
     "evalue": "name 'list_2' is not defined",
     "output_type": "error",
     "traceback": [
      "\u001b[1;31m---------------------------------------------------------------------------\u001b[0m",
      "\u001b[1;31mNameError\u001b[0m                                 Traceback (most recent call last)",
      "Input \u001b[1;32mIn [10]\u001b[0m, in \u001b[0;36m<cell line: 1>\u001b[1;34m()\u001b[0m\n\u001b[1;32m----> 1\u001b[0m \u001b[38;5;28msum\u001b[39m(\u001b[43mlist_2\u001b[49m)\n",
      "\u001b[1;31mNameError\u001b[0m: name 'list_2' is not defined"
     ]
    }
   ],
   "source": [
    "sum(list_2)"
   ]
  },
  {
   "cell_type": "code",
   "execution_count": null,
   "id": "30ef6cd7",
   "metadata": {},
   "outputs": [],
   "source": [
    "len(list_2)"
   ]
  },
  {
   "cell_type": "code",
   "execution_count": null,
   "id": "695833e6",
   "metadata": {},
   "outputs": [],
   "source": [
    "ext=[7,3,99]\n",
    "list_2"
   ]
  },
  {
   "cell_type": "code",
   "execution_count": null,
   "id": "346e23cf",
   "metadata": {},
   "outputs": [],
   "source": [
    "list_2.extend([ext])"
   ]
  },
  {
   "cell_type": "code",
   "execution_count": null,
   "id": "5dd863ee",
   "metadata": {},
   "outputs": [],
   "source": [
    "list_2"
   ]
  },
  {
   "cell_type": "code",
   "execution_count": null,
   "id": "75c784fc",
   "metadata": {},
   "outputs": [],
   "source": [
    "list_2.remove(5)"
   ]
  },
  {
   "cell_type": "code",
   "execution_count": null,
   "id": "dd695242",
   "metadata": {},
   "outputs": [],
   "source": [
    "list_2"
   ]
  },
  {
   "cell_type": "code",
   "execution_count": null,
   "id": "0b385818",
   "metadata": {},
   "outputs": [],
   "source": [
    "prime_list = [1, 2, 3, 5, 7]"
   ]
  },
  {
   "cell_type": "code",
   "execution_count": null,
   "id": "52dd9cb7",
   "metadata": {},
   "outputs": [],
   "source": [
    "sum(prime_list)"
   ]
  },
  {
   "cell_type": "code",
   "execution_count": null,
   "id": "7828578c",
   "metadata": {
    "scrolled": false
   },
   "outputs": [],
   "source": [
    "prime_list.remove(1)"
   ]
  },
  {
   "cell_type": "code",
   "execution_count": null,
   "id": "c8ec6f9a",
   "metadata": {},
   "outputs": [],
   "source": [
    "prime_list"
   ]
  },
  {
   "cell_type": "code",
   "execution_count": null,
   "id": "6be78266",
   "metadata": {},
   "outputs": [],
   "source": [
    "ext= [11, 13, 17]\n",
    "prime_list"
   ]
  },
  {
   "cell_type": "code",
   "execution_count": null,
   "id": "656ab0c7",
   "metadata": {},
   "outputs": [],
   "source": [
    "reverse = [prime_list]"
   ]
  },
  {
   "cell_type": "code",
   "execution_count": null,
   "id": "ea53a4fd",
   "metadata": {},
   "outputs": [],
   "source": [
    "first_tuple =(10,\"hello\", True)"
   ]
  },
  {
   "cell_type": "code",
   "execution_count": null,
   "id": "4cbd5a9a",
   "metadata": {},
   "outputs": [],
   "source": [
    "first_tuple"
   ]
  },
  {
   "cell_type": "code",
   "execution_count": null,
   "id": "636951da",
   "metadata": {},
   "outputs": [],
   "source": [
    "first_tuple.append (100.56)"
   ]
  },
  {
   "cell_type": "code",
   "execution_count": null,
   "id": "c600f4c3",
   "metadata": {},
   "outputs": [],
   "source": [
    "# Dictionaries\n"
   ]
  },
  {
   "cell_type": "code",
   "execution_count": null,
   "id": "00b56ff6",
   "metadata": {},
   "outputs": [],
   "source": [
    "dictl={}\n",
    "type(dictl)"
   ]
  },
  {
   "cell_type": "code",
   "execution_count": null,
   "id": "f75b0aac",
   "metadata": {},
   "outputs": [],
   "source": [
    "dict1={\"Name\": \"Codeclan\", \"Location\": \"Edinburgh\", \"Day\":1}"
   ]
  },
  {
   "cell_type": "code",
   "execution_count": null,
   "id": "08b70dd6",
   "metadata": {},
   "outputs": [],
   "source": [
    "dict1"
   ]
  },
  {
   "cell_type": "code",
   "execution_count": null,
   "id": "9a529f9b",
   "metadata": {},
   "outputs": [],
   "source": [
    "dict1[\"Day\"]"
   ]
  },
  {
   "cell_type": "code",
   "execution_count": null,
   "id": "bdb7432d",
   "metadata": {},
   "outputs": [],
   "source": [
    "dict1.keys()"
   ]
  },
  {
   "cell_type": "code",
   "execution_count": null,
   "id": "22e4d2ab",
   "metadata": {},
   "outputs": [],
   "source": [
    "dict1.values()"
   ]
  },
  {
   "cell_type": "code",
   "execution_count": null,
   "id": "848fc2cd",
   "metadata": {},
   "outputs": [],
   "source": [
    "temperature = 30\n",
    "if temperature > 20: print (\"Heat Warning Wear sunscreen !\")"
   ]
  },
  {
   "cell_type": "code",
   "execution_count": null,
   "id": "8d83aab7",
   "metadata": {},
   "outputs": [],
   "source": [
    " "
   ]
  },
  {
   "cell_type": "code",
   "execution_count": null,
   "id": "0c1c0716",
   "metadata": {
    "scrolled": true
   },
   "outputs": [],
   "source": [
    "temperature = 5\n",
    "if temperature > 20: \n",
    "    print (\"Heat Warning Wear sunscreen !\")\n",
    "    art =20*30\n",
    "    print(art)\n",
    "elif temperature <10:\n",
    "    print(\"Everyting is Fine !\")\n",
    "else:\n",
    "        print (\"Nothing\")"
   ]
  },
  {
   "cell_type": "code",
   "execution_count": null,
   "id": "cd8daa13",
   "metadata": {},
   "outputs": [],
   "source": [
    "animals (\"Chicken\")\n",
    "if animal (\"Chicken\"): \n",
    "    print (\"Yipee my favorite animal - i love chickens\")\n",
    "    art =20*30\n",
    "    print(art)\n",
    "elif animals (cow):\n",
    "    print(\"Sad face I only like chickens\")\n",
    "else:\n",
    "        print (\"Nothing\")"
   ]
  },
  {
   "cell_type": "code",
   "execution_count": null,
   "id": "64b63c15",
   "metadata": {},
   "outputs": [],
   "source": [
    "for Alpha in range(10):\n",
    "    print (\"Today is Monday. I don't like Mondays\")"
   ]
  },
  {
   "cell_type": "code",
   "execution_count": null,
   "id": "47258ca7",
   "metadata": {},
   "outputs": [],
   "source": [
    "list1= [\"Codeclan\", 1,10.56, \"Python is better than R\"]\n",
    "list1"
   ]
  },
  {
   "cell_type": "code",
   "execution_count": null,
   "id": "ff66d61c",
   "metadata": {},
   "outputs": [],
   "source": [
    "input1 = eval(input(\"Number of times the for loop to run : \"))\n",
    "for alpha in range (input1):\n",
    "    print (\"Hello\")"
   ]
  },
  {
   "cell_type": "code",
   "execution_count": null,
   "id": "4165ed44",
   "metadata": {},
   "outputs": [],
   "source": [
    "for i,j in enumerate (list1):\n",
    "    print(i,j)"
   ]
  },
  {
   "cell_type": "code",
   "execution_count": null,
   "id": "6af32bf5",
   "metadata": {},
   "outputs": [],
   "source": [
    "type(input1)"
   ]
  },
  {
   "cell_type": "code",
   "execution_count": null,
   "id": "82b4ef0c",
   "metadata": {},
   "outputs": [],
   "source": [
    "len(list1)"
   ]
  },
  {
   "cell_type": "code",
   "execution_count": null,
   "id": "2c9ebbd2",
   "metadata": {},
   "outputs": [],
   "source": [
    "i= 0\n",
    "while i <10:\n",
    "    print (\"Today is Monday and i don't like Mondays\")\n",
    "    i = i+1"
   ]
  },
  {
   "cell_type": "code",
   "execution_count": null,
   "id": "d24cad84",
   "metadata": {},
   "outputs": [],
   "source": [
    "i= 0\n",
    "while i <len (list1):\n",
    "    print (i, list1[i])\n",
    "    i = i+1"
   ]
  },
  {
   "cell_type": "code",
   "execution_count": null,
   "id": "60673177",
   "metadata": {},
   "outputs": [],
   "source": [
    "dict2 = {\"name\":\"Codeclan\", \"Location\": \"Education\", \"Day\": 1}\n",
    "dict2"
   ]
  },
  {
   "cell_type": "code",
   "execution_count": null,
   "id": "a288dd44",
   "metadata": {},
   "outputs": [],
   "source": [
    "dict2 [\"Day\"]"
   ]
  },
  {
   "cell_type": "code",
   "execution_count": null,
   "id": "34b5cbe6",
   "metadata": {},
   "outputs": [],
   "source": []
  },
  {
   "cell_type": "code",
   "execution_count": null,
   "id": "2c3c8741",
   "metadata": {},
   "outputs": [],
   "source": [
    "for i,j in dict2.items():\n",
    "    print (i,j)"
   ]
  },
  {
   "cell_type": "code",
   "execution_count": 2,
   "id": "f8aab9ad",
   "metadata": {},
   "outputs": [
    {
     "data": {
      "text/plain": [
       "[1, 2, 3]"
      ]
     },
     "execution_count": 2,
     "metadata": {},
     "output_type": "execute_result"
    }
   ],
   "source": [
    "rang= [1,2,3,4,5,6,7,8,9,10]\n",
    "list_comp = [alpha for alpha in rang if alpha <4]\n",
    "list_comp"
   ]
  },
  {
   "cell_type": "code",
   "execution_count": 3,
   "id": "6f5742e3",
   "metadata": {},
   "outputs": [],
   "source": [
    "list_comp2 = []\n",
    "for alpha in rang:\n",
    "    if alpha > 4:\n",
    "        list_comp2.append(alpha)\n",
    "    else:\n",
    "        continue"
   ]
  },
  {
   "cell_type": "code",
   "execution_count": 6,
   "id": "3a65245d",
   "metadata": {},
   "outputs": [
    {
     "data": {
      "text/plain": [
       "Type help() for interactive help, or help(object) for help about object."
      ]
     },
     "execution_count": 6,
     "metadata": {},
     "output_type": "execute_result"
    }
   ],
   "source": [
    "help"
   ]
  },
  {
   "cell_type": "code",
   "execution_count": 7,
   "id": "6f1083e0",
   "metadata": {},
   "outputs": [
    {
     "data": {
      "text/plain": [
       "Copyright (c) 2001-2022 Python Software Foundation.\n",
       "All Rights Reserved.\n",
       "\n",
       "Copyright (c) 2000 BeOpen.com.\n",
       "All Rights Reserved.\n",
       "\n",
       "Copyright (c) 1995-2001 Corporation for National Research Initiatives.\n",
       "All Rights Reserved.\n",
       "\n",
       "Copyright (c) 1991-1995 Stichting Mathematisch Centrum, Amsterdam.\n",
       "All Rights Reserved."
      ]
     },
     "execution_count": 7,
     "metadata": {},
     "output_type": "execute_result"
    }
   ],
   "source": [
    "copyright"
   ]
  },
  {
   "cell_type": "code",
   "execution_count": 9,
   "id": "0b7bc612",
   "metadata": {},
   "outputs": [
    {
     "ename": "TypeError",
     "evalue": "'builtin_function_or_method' object is not subscriptable",
     "output_type": "error",
     "traceback": [
      "\u001b[1;31m---------------------------------------------------------------------------\u001b[0m",
      "\u001b[1;31mTypeError\u001b[0m                                 Traceback (most recent call last)",
      "Input \u001b[1;32mIn [9]\u001b[0m, in \u001b[0;36m<cell line: 1>\u001b[1;34m()\u001b[0m\n\u001b[1;32m----> 1\u001b[0m \u001b[38;5;28;43mprint\u001b[39;49m\u001b[43m \u001b[49m\u001b[43m[\u001b[49m\u001b[38;5;124;43m\"\u001b[39;49m\u001b[38;5;124;43mHello World\u001b[39;49m\u001b[38;5;124;43m\"\u001b[39;49m\u001b[43m]\u001b[49m\n",
      "\u001b[1;31mTypeError\u001b[0m: 'builtin_function_or_method' object is not subscriptable"
     ]
    }
   ],
   "source": [
    "print (\"Hello World\"])"
   ]
  },
  {
   "cell_type": "code",
   "execution_count": null,
   "id": "554cff37",
   "metadata": {},
   "outputs": [],
   "source": []
  }
 ],
 "metadata": {
  "kernelspec": {
   "display_name": "Python 3 (ipykernel)",
   "language": "python",
   "name": "python3"
  },
  "language_info": {
   "codemirror_mode": {
    "name": "ipython",
    "version": 3
   },
   "file_extension": ".py",
   "mimetype": "text/x-python",
   "name": "python",
   "nbconvert_exporter": "python",
   "pygments_lexer": "ipython3",
   "version": "3.9.12"
  },
  "varInspector": {
   "cols": {
    "lenName": 16,
    "lenType": 16,
    "lenVar": 40
   },
   "kernels_config": {
    "python": {
     "delete_cmd_postfix": "",
     "delete_cmd_prefix": "del ",
     "library": "var_list.py",
     "varRefreshCmd": "print(var_dic_list())"
    },
    "r": {
     "delete_cmd_postfix": ") ",
     "delete_cmd_prefix": "rm(",
     "library": "var_list.r",
     "varRefreshCmd": "cat(var_dic_list()) "
    }
   },
   "types_to_exclude": [
    "module",
    "function",
    "builtin_function_or_method",
    "instance",
    "_Feature"
   ],
   "window_display": false
  }
 },
 "nbformat": 4,
 "nbformat_minor": 5
}
