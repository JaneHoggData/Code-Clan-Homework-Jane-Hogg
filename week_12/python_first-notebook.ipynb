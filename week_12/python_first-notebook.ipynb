{
 "cells": [
  {
   "cell_type": "markdown",
   "id": "418dead1",
   "metadata": {},
   "source": [
    "# Headings\n",
    "Today we are learning python programming and it seems to be a lot easier to integrate code and text to explain the area your are working on \n"
   ]
  },
  {
   "cell_type": "markdown",
   "id": "2216b35d",
   "metadata": {},
   "source": []
  },
  {
   "cell_type": "code",
   "execution_count": null,
   "id": "e47f16dc",
   "metadata": {},
   "outputs": [],
   "source": [
    "my_first_var = \"None\""
   ]
  },
  {
   "cell_type": "code",
   "execution_count": null,
   "id": "e9481298",
   "metadata": {},
   "outputs": [],
   "source": [
    "my_first_var"
   ]
  },
  {
   "cell_type": "code",
   "execution_count": null,
   "id": "27fd3631",
   "metadata": {},
   "outputs": [],
   "source": [
    "type(my_first_var)"
   ]
  },
  {
   "cell_type": "code",
   "execution_count": null,
   "id": "1e081fd2",
   "metadata": {},
   "outputs": [],
   "source": [
    "my_first_list = [\"Codeclan\", 10,10.54, True,None]"
   ]
  },
  {
   "cell_type": "code",
   "execution_count": null,
   "id": "943f7ba6",
   "metadata": {},
   "outputs": [],
   "source": [
    "type[my_first_list]"
   ]
  },
  {
   "cell_type": "code",
   "execution_count": null,
   "id": "cbaede06",
   "metadata": {},
   "outputs": [],
   "source": [
    "my_first_list [-3]"
   ]
  },
  {
   "cell_type": "code",
   "execution_count": null,
   "id": "126cff92",
   "metadata": {},
   "outputs": [],
   "source": [
    "my_first_list[2:4]"
   ]
  },
  {
   "cell_type": "code",
   "execution_count": null,
   "id": "923dcfb0",
   "metadata": {},
   "outputs": [],
   "source": [
    "example_list = [[ 10,2,],\"Hello\", 10.0, None,False]"
   ]
  },
  {
   "cell_type": "code",
   "execution_count": null,
   "id": "29f0b4d6",
   "metadata": {},
   "outputs": [],
   "source": [
    "example_list"
   ]
  },
  {
   "cell_type": "code",
   "execution_count": null,
   "id": "bbc9698e",
   "metadata": {},
   "outputs": [],
   "source": [
    "example_list[0],[1]"
   ]
  },
  {
   "cell_type": "code",
   "execution_count": null,
   "id": "20d546e2",
   "metadata": {},
   "outputs": [],
   "source": [
    "list_2 = [1,2,3,4,5,6]"
   ]
  },
  {
   "cell_type": "code",
   "execution_count": null,
   "id": "c1a7a4f1",
   "metadata": {},
   "outputs": [],
   "source": [
    "sum(list_2)"
   ]
  },
  {
   "cell_type": "code",
   "execution_count": null,
   "id": "c9f6add9",
   "metadata": {},
   "outputs": [],
   "source": [
    "new_list = list_2.sort()\n",
    "list_2"
   ]
  },
  {
   "cell_type": "code",
   "execution_count": null,
   "id": "d00c5948",
   "metadata": {},
   "outputs": [],
   "source": [
    "sorted (list_2)"
   ]
  },
  {
   "cell_type": "code",
   "execution_count": null,
   "id": "3db00d2c",
   "metadata": {},
   "outputs": [],
   "source": [
    "list_2.append(100)\n",
    "list_2"
   ]
  },
  {
   "cell_type": "code",
   "execution_count": null,
   "id": "dbbbc01c",
   "metadata": {},
   "outputs": [],
   "source": [
    "sum(list_2)"
   ]
  },
  {
   "cell_type": "code",
   "execution_count": null,
   "id": "310a1f5f",
   "metadata": {},
   "outputs": [],
   "source": [
    "len(list_2)"
   ]
  },
  {
   "cell_type": "code",
   "execution_count": null,
   "id": "9a959b01",
   "metadata": {},
   "outputs": [],
   "source": [
    "ext=[7,3,99]\n",
    "list_2"
   ]
  },
  {
   "cell_type": "code",
   "execution_count": null,
   "id": "d655e564",
   "metadata": {},
   "outputs": [],
   "source": [
    "list_2.extend([ext])"
   ]
  },
  {
   "cell_type": "code",
   "execution_count": null,
   "id": "11f8677e",
   "metadata": {},
   "outputs": [],
   "source": [
    "list_2"
   ]
  },
  {
   "cell_type": "code",
   "execution_count": null,
   "id": "8b7e7d84",
   "metadata": {},
   "outputs": [],
   "source": [
    "list_2.remove(5)"
   ]
  },
  {
   "cell_type": "code",
   "execution_count": null,
   "id": "22959c11",
   "metadata": {},
   "outputs": [],
   "source": [
    "list_2"
   ]
  },
  {
   "cell_type": "code",
   "execution_count": null,
   "id": "e0ca3063",
   "metadata": {},
   "outputs": [],
   "source": [
    "prime_list = [1, 2, 3, 5, 7]"
   ]
  },
  {
   "cell_type": "code",
   "execution_count": null,
   "id": "9106db1a",
   "metadata": {},
   "outputs": [],
   "source": [
    "sum(prime_list)"
   ]
  },
  {
   "cell_type": "code",
   "execution_count": null,
   "id": "36d5f5c6",
   "metadata": {
    "scrolled": false
   },
   "outputs": [],
   "source": [
    "prime_list.remove(1)"
   ]
  },
  {
   "cell_type": "code",
   "execution_count": null,
   "id": "0b40bb78",
   "metadata": {},
   "outputs": [],
   "source": [
    "prime_list"
   ]
  },
  {
   "cell_type": "code",
   "execution_count": null,
   "id": "6838c23b",
   "metadata": {},
   "outputs": [],
   "source": [
    "ext= [11, 13, 17]\n",
    "prime_list"
   ]
  },
  {
   "cell_type": "code",
   "execution_count": null,
   "id": "f3a9ff09",
   "metadata": {},
   "outputs": [],
   "source": [
    "reverse = [prime_list]"
   ]
  },
  {
   "cell_type": "code",
   "execution_count": null,
   "id": "566af216",
   "metadata": {},
   "outputs": [],
   "source": [
    "first_tuple =(10,\"hello\", True)"
   ]
  },
  {
   "cell_type": "code",
   "execution_count": null,
   "id": "3714dab1",
   "metadata": {},
   "outputs": [],
   "source": [
    "first_tuple"
   ]
  },
  {
   "cell_type": "code",
   "execution_count": null,
   "id": "c3818b98",
   "metadata": {},
   "outputs": [],
   "source": [
    "first_tuple.append (100.56)"
   ]
  },
  {
   "cell_type": "code",
   "execution_count": null,
   "id": "07a9e129",
   "metadata": {},
   "outputs": [],
   "source": [
    "# Dictionaries\n"
   ]
  },
  {
   "cell_type": "code",
   "execution_count": null,
   "id": "f9f10e72",
   "metadata": {},
   "outputs": [],
   "source": [
    "dictl={}\n",
    "type(dictl)"
   ]
  },
  {
   "cell_type": "code",
   "execution_count": null,
   "id": "17caa3b8",
   "metadata": {},
   "outputs": [],
   "source": [
    "dict1={\"Name\": \"Codeclan\", \"Location\": \"Edinburgh\", \"Day\":1}"
   ]
  },
  {
   "cell_type": "code",
   "execution_count": null,
   "id": "48ce172f",
   "metadata": {},
   "outputs": [],
   "source": [
    "dict1"
   ]
  },
  {
   "cell_type": "code",
   "execution_count": null,
   "id": "b1d8b8ec",
   "metadata": {},
   "outputs": [],
   "source": [
    "dict1[\"Day\"]"
   ]
  },
  {
   "cell_type": "code",
   "execution_count": null,
   "id": "f0ba74a5",
   "metadata": {},
   "outputs": [],
   "source": [
    "dict1.keys()"
   ]
  },
  {
   "cell_type": "code",
   "execution_count": null,
   "id": "8a1443d8",
   "metadata": {},
   "outputs": [],
   "source": [
    "dict1.values()"
   ]
  },
  {
   "cell_type": "code",
   "execution_count": null,
   "id": "2593b24d",
   "metadata": {},
   "outputs": [],
   "source": [
    "temperature = 30\n",
    "if temperature > 20: print (\"Heat Warning Wear sunscreen !\")"
   ]
  },
  {
   "cell_type": "code",
   "execution_count": null,
   "id": "fab72795",
   "metadata": {},
   "outputs": [],
   "source": [
    " "
   ]
  },
  {
   "cell_type": "code",
   "execution_count": null,
   "id": "13705c96",
   "metadata": {
    "scrolled": true
   },
   "outputs": [],
   "source": [
    "temperature = 5\n",
    "if temperature > 20: \n",
    "    print (\"Heat Warning Wear sunscreen !\")\n",
    "    art =20*30\n",
    "    print(art)\n",
    "elif temperature <10:\n",
    "    print(\"Everyting is Fine !\")\n",
    "else:\n",
    "        print (\"Nothing\")"
   ]
  },
  {
   "cell_type": "code",
   "execution_count": null,
   "id": "6693db0f",
   "metadata": {},
   "outputs": [],
   "source": [
    "animals (\"Chicken\")\n",
    "if animal (\"Chicken\"): \n",
    "    print (\"Yipee my favorite animal - i love chickens\")\n",
    "    art =20*30\n",
    "    print(art)\n",
    "elif animals (cow):\n",
    "    print(\"Sad face I only like chickens\")\n",
    "else:\n",
    "        print (\"Nothing\")"
   ]
  },
  {
   "cell_type": "code",
   "execution_count": null,
   "id": "70b1e2dd",
   "metadata": {},
   "outputs": [],
   "source": [
    "for Alpha in range(10):\n",
    "    print (\"Today is Monday. I don't like Mondays\")"
   ]
  },
  {
   "cell_type": "code",
   "execution_count": null,
   "id": "183d667e",
   "metadata": {},
   "outputs": [],
   "source": [
    "list1= [\"Codeclan\", 1,10.56, \"Python is better than R\"]\n",
    "list1"
   ]
  },
  {
   "cell_type": "code",
   "execution_count": null,
   "id": "2e282503",
   "metadata": {},
   "outputs": [],
   "source": [
    "input1 = eval(input(\"Number of times the for loop to run : \"))\n",
    "for alpha in range (input1):\n",
    "    print (\"Hello\")"
   ]
  },
  {
   "cell_type": "code",
   "execution_count": null,
   "id": "c4885244",
   "metadata": {},
   "outputs": [],
   "source": [
    "for i,j in enumerate (list1):\n",
    "    print(i,j)"
   ]
  },
  {
   "cell_type": "code",
   "execution_count": null,
   "id": "18c907a6",
   "metadata": {},
   "outputs": [],
   "source": [
    "type(input1)"
   ]
  },
  {
   "cell_type": "code",
   "execution_count": null,
   "id": "7a1bc1d4",
   "metadata": {},
   "outputs": [],
   "source": [
    "len(list1)"
   ]
  },
  {
   "cell_type": "code",
   "execution_count": null,
   "id": "5f2b8c14",
   "metadata": {},
   "outputs": [],
   "source": [
    "i= 0\n",
    "while i <10:\n",
    "    print (\"Today is Monday and i don't like Mondays\")\n",
    "    i = i+1"
   ]
  },
  {
   "cell_type": "code",
   "execution_count": null,
   "id": "fc1f39e6",
   "metadata": {},
   "outputs": [],
   "source": [
    "i= 0\n",
    "while i <len (list1):\n",
    "    print (i, list1[i])\n",
    "    i = i+1"
   ]
  },
  {
   "cell_type": "code",
   "execution_count": null,
   "id": "92980e87",
   "metadata": {},
   "outputs": [],
   "source": [
    "dict2 = {\"name\":\"Codeclan\", \"Location\": \"Education\", \"Day\": 1}\n",
    "dict2"
   ]
  },
  {
   "cell_type": "code",
   "execution_count": null,
   "id": "fdb8b4d1",
   "metadata": {},
   "outputs": [],
   "source": [
    "dict2 [\"Day\"]"
   ]
  },
  {
   "cell_type": "code",
   "execution_count": null,
   "id": "abe2185d",
   "metadata": {},
   "outputs": [],
   "source": []
  },
  {
   "cell_type": "code",
   "execution_count": null,
   "id": "07480418",
   "metadata": {},
   "outputs": [],
   "source": [
    "for i,j in dict2.items():\n",
    "    print (i,j)"
   ]
  },
  {
   "cell_type": "code",
   "execution_count": null,
   "id": "149c8f11",
   "metadata": {},
   "outputs": [],
   "source": [
    "rang= [1,2,3,4,5,6,7,8,9,10]\n",
    "list_comp = [alpha for alpha in rang if alpha <4]\n",
    "list_comp"
   ]
  },
  {
   "cell_type": "code",
   "execution_count": null,
   "id": "5d3d50ac",
   "metadata": {},
   "outputs": [],
   "source": [
    "list_comp2 = []\n",
    "for alpha in rang:\n",
    "    if alpha > 4:\n",
    "        list_comp2.append(alpha)\n",
    "    else:\n",
    "        continue"
   ]
  },
  {
   "cell_type": "code",
   "execution_count": null,
   "id": "31fd8dda",
   "metadata": {},
   "outputs": [],
   "source": [
    "help"
   ]
  },
  {
   "cell_type": "code",
   "execution_count": null,
   "id": "37be5031",
   "metadata": {},
   "outputs": [],
   "source": [
    "copyright"
   ]
  },
  {
   "cell_type": "code",
   "execution_count": null,
   "id": "120d557b",
   "metadata": {},
   "outputs": [],
   "source": [
    "print (\"Hello World\"])"
   ]
  },
  {
   "cell_type": "code",
   "execution_count": null,
   "id": "6c44dfd2",
   "metadata": {},
   "outputs": [],
   "source": [
    "animal = \"chicken\"\n",
    "\n",
    "if animal == \"chicken\":\n",
    "    print(\"My favourite animal!\")\n",
    "else:\n",
    "    print(\"Sad, not my favourite\")"
   ]
  },
  {
   "cell_type": "code",
   "execution_count": null,
   "id": "bd7a846c",
   "metadata": {},
   "outputs": [],
   "source": [
    "# functions\n",
    "#what are they?\n",
    "why use them\n",
    "How to \n"
   ]
  },
  {
   "cell_type": "code",
   "execution_count": null,
   "id": "6fca4b03",
   "metadata": {},
   "outputs": [],
   "source": [
    "def greet():\n",
    "    print (\"Hey how are you ?\")\n",
    "    "
   ]
  },
  {
   "cell_type": "code",
   "execution_count": null,
   "id": "d91b1c26",
   "metadata": {},
   "outputs": [],
   "source": [
    "greet()"
   ]
  },
  {
   "cell_type": "raw",
   "id": "f072359f",
   "metadata": {},
   "source": [
    "def operation1 (x,y):\n",
    "        Summ = x+y\n",
    "        multi x*y\n",
    "        return multi,summ"
   ]
  },
  {
   "cell_type": "code",
   "execution_count": null,
   "id": "e9c57aaa",
   "metadata": {},
   "outputs": [],
   "source": [
    "operation1 (3,6)"
   ]
  },
  {
   "cell_type": "code",
   "execution_count": null,
   "id": "f6762238",
   "metadata": {},
   "outputs": [],
   "source": [
    "def calculate_mean (x,y):\n",
    "        avg = (x+y) /2\n",
    "        return avg"
   ]
  },
  {
   "cell_type": "code",
   "execution_count": null,
   "id": "d12ee5e5",
   "metadata": {
    "scrolled": true
   },
   "outputs": [],
   "source": [
    "calculate_mean (3,3)"
   ]
  },
  {
   "cell_type": "code",
   "execution_count": null,
   "id": "4642dba6",
   "metadata": {},
   "outputs": [],
   "source": [
    "calculate_mean (190,67)"
   ]
  },
  {
   "cell_type": "code",
   "execution_count": null,
   "id": "6b1df3a5",
   "metadata": {},
   "outputs": [],
   "source": [
    "calculate_mean (12343,56)"
   ]
  },
  {
   "cell_type": "code",
   "execution_count": null,
   "id": "f059461c",
   "metadata": {
    "scrolled": true
   },
   "outputs": [],
   "source": []
  },
  {
   "cell_type": "markdown",
   "id": "e3cdd7f2",
   "metadata": {},
   "source": [
    "# libaries - allow you to use different content Panda and numpy"
   ]
  },
  {
   "cell_type": "code",
   "execution_count": null,
   "id": "21006adb",
   "metadata": {},
   "outputs": [],
   "source": [
    "pip install numpy"
   ]
  },
  {
   "cell_type": "code",
   "execution_count": null,
   "id": "49247f69",
   "metadata": {},
   "outputs": [],
   "source": [
    "import numpy as np"
   ]
  },
  {
   "cell_type": "code",
   "execution_count": null,
   "id": "44985f04",
   "metadata": {},
   "outputs": [],
   "source": [
    "my_array = np.array([[1,2,3], [4,5,6]])\n",
    "print (my_array)"
   ]
  },
  {
   "cell_type": "code",
   "execution_count": null,
   "id": "18076ef0",
   "metadata": {},
   "outputs": [],
   "source": [
    "type(my_array)"
   ]
  },
  {
   "cell_type": "code",
   "execution_count": null,
   "id": "204ce60e",
   "metadata": {},
   "outputs": [],
   "source": [
    "my_array [0][2]"
   ]
  },
  {
   "cell_type": "markdown",
   "id": "5b08d407",
   "metadata": {},
   "source": [
    "# Pandas - load spreadsheets"
   ]
  },
  {
   "cell_type": "code",
   "execution_count": null,
   "id": "a641f951",
   "metadata": {},
   "outputs": [],
   "source": [
    "pip install pandas"
   ]
  },
  {
   "cell_type": "code",
   "execution_count": 1,
   "id": "e19f9450",
   "metadata": {},
   "outputs": [],
   "source": [
    "import pandas as pd"
   ]
  },
  {
   "cell_type": "code",
   "execution_count": 14,
   "id": "009d35fe",
   "metadata": {},
   "outputs": [],
   "source": [
    "dataset_dict = {\"Name\": [\"Jane\", \"Gareth\", \"David\",\"Jamie\", \"Lewis\", \"Nacho\", \"Manuela\", \"Conal\"],\n",
    "                \"Favourite\": [\"Mon\",\"Tues\",\"Wed\",\"Thur\",\"Fri\",\"Sat\",\"Sun\", \"Sat\"]}\n",
    "                                                                    \n",
    "                                                                                                            "
   ]
  },
  {
   "cell_type": "code",
   "execution_count": 15,
   "id": "6df82630",
   "metadata": {},
   "outputs": [
    {
     "data": {
      "text/plain": [
       "{'Name': ['Jane',\n",
       "  'Gareth',\n",
       "  'David',\n",
       "  'Jamie',\n",
       "  'Lewis',\n",
       "  'Nacho',\n",
       "  'Manuela',\n",
       "  'Conal'],\n",
       " 'Favourite': ['Mon', 'Tues', 'Wed', 'Thur', 'Fri', 'Sat', 'Sun', 'Sat']}"
      ]
     },
     "execution_count": 15,
     "metadata": {},
     "output_type": "execute_result"
    }
   ],
   "source": [
    "dataset_dict"
   ]
  },
  {
   "cell_type": "code",
   "execution_count": 16,
   "id": "e8f7cd66",
   "metadata": {},
   "outputs": [],
   "source": [
    "df=pd.DataFrame(dataset_dict)"
   ]
  },
  {
   "cell_type": "code",
   "execution_count": 17,
   "id": "d04462c6",
   "metadata": {},
   "outputs": [
    {
     "data": {
      "text/html": [
       "<div>\n",
       "<style scoped>\n",
       "    .dataframe tbody tr th:only-of-type {\n",
       "        vertical-align: middle;\n",
       "    }\n",
       "\n",
       "    .dataframe tbody tr th {\n",
       "        vertical-align: top;\n",
       "    }\n",
       "\n",
       "    .dataframe thead th {\n",
       "        text-align: right;\n",
       "    }\n",
       "</style>\n",
       "<table border=\"1\" class=\"dataframe\">\n",
       "  <thead>\n",
       "    <tr style=\"text-align: right;\">\n",
       "      <th></th>\n",
       "      <th>Name</th>\n",
       "      <th>Favourite</th>\n",
       "    </tr>\n",
       "  </thead>\n",
       "  <tbody>\n",
       "    <tr>\n",
       "      <th>0</th>\n",
       "      <td>Jane</td>\n",
       "      <td>Mon</td>\n",
       "    </tr>\n",
       "    <tr>\n",
       "      <th>1</th>\n",
       "      <td>Gareth</td>\n",
       "      <td>Tues</td>\n",
       "    </tr>\n",
       "    <tr>\n",
       "      <th>2</th>\n",
       "      <td>David</td>\n",
       "      <td>Wed</td>\n",
       "    </tr>\n",
       "    <tr>\n",
       "      <th>3</th>\n",
       "      <td>Jamie</td>\n",
       "      <td>Thur</td>\n",
       "    </tr>\n",
       "    <tr>\n",
       "      <th>4</th>\n",
       "      <td>Lewis</td>\n",
       "      <td>Fri</td>\n",
       "    </tr>\n",
       "    <tr>\n",
       "      <th>5</th>\n",
       "      <td>Nacho</td>\n",
       "      <td>Sat</td>\n",
       "    </tr>\n",
       "    <tr>\n",
       "      <th>6</th>\n",
       "      <td>Manuela</td>\n",
       "      <td>Sun</td>\n",
       "    </tr>\n",
       "    <tr>\n",
       "      <th>7</th>\n",
       "      <td>Conal</td>\n",
       "      <td>Sat</td>\n",
       "    </tr>\n",
       "  </tbody>\n",
       "</table>\n",
       "</div>"
      ],
      "text/plain": [
       "      Name Favourite\n",
       "0     Jane       Mon\n",
       "1   Gareth      Tues\n",
       "2    David       Wed\n",
       "3    Jamie      Thur\n",
       "4    Lewis       Fri\n",
       "5    Nacho       Sat\n",
       "6  Manuela       Sun\n",
       "7    Conal       Sat"
      ]
     },
     "execution_count": 17,
     "metadata": {},
     "output_type": "execute_result"
    }
   ],
   "source": [
    "df"
   ]
  },
  {
   "cell_type": "code",
   "execution_count": null,
   "id": "008943da",
   "metadata": {},
   "outputs": [],
   "source": []
  }
 ],
 "metadata": {
  "kernelspec": {
   "display_name": "Python 3 (ipykernel)",
   "language": "python",
   "name": "python3"
  },
  "language_info": {
   "codemirror_mode": {
    "name": "ipython",
    "version": 3
   },
   "file_extension": ".py",
   "mimetype": "text/x-python",
   "name": "python",
   "nbconvert_exporter": "python",
   "pygments_lexer": "ipython3",
   "version": "3.9.12"
  },
  "varInspector": {
   "cols": {
    "lenName": 16,
    "lenType": 16,
    "lenVar": 40
   },
   "kernels_config": {
    "python": {
     "delete_cmd_postfix": "",
     "delete_cmd_prefix": "del ",
     "library": "var_list.py",
     "varRefreshCmd": "print(var_dic_list())"
    },
    "r": {
     "delete_cmd_postfix": ") ",
     "delete_cmd_prefix": "rm(",
     "library": "var_list.r",
     "varRefreshCmd": "cat(var_dic_list()) "
    }
   },
   "types_to_exclude": [
    "module",
    "function",
    "builtin_function_or_method",
    "instance",
    "_Feature"
   ],
   "window_display": false
  }
 },
 "nbformat": 4,
 "nbformat_minor": 5
}
