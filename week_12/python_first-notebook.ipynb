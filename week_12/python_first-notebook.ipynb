{
 "cells": [
  {
   "cell_type": "markdown",
   "id": "316c4f14",
   "metadata": {},
   "source": [
    "# Headings\n",
    "Today we are learning python programming and it seems to be a lot easier to integrate code and text to explain the area your are working on \n"
   ]
  },
  {
   "cell_type": "markdown",
   "id": "36fdf178",
   "metadata": {},
   "source": []
  },
  {
   "cell_type": "code",
   "execution_count": null,
   "id": "c77998b4",
   "metadata": {},
   "outputs": [],
   "source": [
    "my_first_var = \"None\""
   ]
  },
  {
   "cell_type": "code",
   "execution_count": null,
   "id": "2dd8f190",
   "metadata": {},
   "outputs": [],
   "source": [
    "my_first_var"
   ]
  },
  {
   "cell_type": "code",
   "execution_count": null,
   "id": "1a26933e",
   "metadata": {},
   "outputs": [],
   "source": [
    "type(my_first_var)"
   ]
  },
  {
   "cell_type": "code",
   "execution_count": null,
   "id": "7958e21c",
   "metadata": {},
   "outputs": [],
   "source": [
    "my_first_list = [\"Codeclan\", 10,10.54, True,None]"
   ]
  },
  {
   "cell_type": "code",
   "execution_count": null,
   "id": "7abaf8e1",
   "metadata": {},
   "outputs": [],
   "source": [
    "type[my_first_list]"
   ]
  },
  {
   "cell_type": "code",
   "execution_count": null,
   "id": "7268ee35",
   "metadata": {},
   "outputs": [],
   "source": [
    "my_first_list [-3]"
   ]
  },
  {
   "cell_type": "code",
   "execution_count": null,
   "id": "60c234f8",
   "metadata": {},
   "outputs": [],
   "source": [
    "my_first_list[2:4]"
   ]
  },
  {
   "cell_type": "code",
   "execution_count": null,
   "id": "10a25625",
   "metadata": {},
   "outputs": [],
   "source": [
    "example_list = [[ 10,2,],\"Hello\", 10.0, None,False]"
   ]
  },
  {
   "cell_type": "code",
   "execution_count": null,
   "id": "49aa97b6",
   "metadata": {},
   "outputs": [],
   "source": [
    "example_list"
   ]
  },
  {
   "cell_type": "code",
   "execution_count": null,
   "id": "6e47db25",
   "metadata": {},
   "outputs": [],
   "source": [
    "example_list[0],[1]"
   ]
  },
  {
   "cell_type": "code",
   "execution_count": null,
   "id": "18fbf722",
   "metadata": {},
   "outputs": [],
   "source": [
    "list_2 = [1,2,3,4,5,6]"
   ]
  },
  {
   "cell_type": "code",
   "execution_count": null,
   "id": "6908d8ec",
   "metadata": {},
   "outputs": [],
   "source": [
    "sum(list_2)"
   ]
  },
  {
   "cell_type": "code",
   "execution_count": null,
   "id": "5aad0819",
   "metadata": {},
   "outputs": [],
   "source": [
    "new_list = list_2.sort()\n",
    "list_2"
   ]
  },
  {
   "cell_type": "code",
   "execution_count": null,
   "id": "128786eb",
   "metadata": {},
   "outputs": [],
   "source": [
    "sorted (list_2)"
   ]
  },
  {
   "cell_type": "code",
   "execution_count": null,
   "id": "07043206",
   "metadata": {},
   "outputs": [],
   "source": [
    "list_2.append(100)\n",
    "list_2"
   ]
  },
  {
   "cell_type": "code",
   "execution_count": null,
   "id": "f4ea400e",
   "metadata": {},
   "outputs": [],
   "source": [
    "sum(list_2)"
   ]
  },
  {
   "cell_type": "code",
   "execution_count": null,
   "id": "cb4b2be2",
   "metadata": {},
   "outputs": [],
   "source": [
    "len(list_2)"
   ]
  },
  {
   "cell_type": "code",
   "execution_count": null,
   "id": "ae8ab876",
   "metadata": {},
   "outputs": [],
   "source": [
    "ext=[7,3,99]\n",
    "list_2"
   ]
  },
  {
   "cell_type": "code",
   "execution_count": null,
   "id": "0c70ca05",
   "metadata": {},
   "outputs": [],
   "source": [
    "list_2.extend([ext])"
   ]
  },
  {
   "cell_type": "code",
   "execution_count": null,
   "id": "fd224f98",
   "metadata": {},
   "outputs": [],
   "source": [
    "list_2"
   ]
  },
  {
   "cell_type": "code",
   "execution_count": null,
   "id": "015412ed",
   "metadata": {},
   "outputs": [],
   "source": [
    "list_2.remove(5)"
   ]
  },
  {
   "cell_type": "code",
   "execution_count": null,
   "id": "b5e0ecd4",
   "metadata": {},
   "outputs": [],
   "source": [
    "list_2"
   ]
  },
  {
   "cell_type": "code",
   "execution_count": null,
   "id": "3d15d771",
   "metadata": {},
   "outputs": [],
   "source": [
    "prime_list = [1, 2, 3, 5, 7]"
   ]
  },
  {
   "cell_type": "code",
   "execution_count": null,
   "id": "67667fdf",
   "metadata": {},
   "outputs": [],
   "source": [
    "sum(prime_list)"
   ]
  },
  {
   "cell_type": "code",
   "execution_count": null,
   "id": "e796cbc2",
   "metadata": {
    "scrolled": false
   },
   "outputs": [],
   "source": [
    "prime_list.remove(1)"
   ]
  },
  {
   "cell_type": "code",
   "execution_count": null,
   "id": "0c2dce7d",
   "metadata": {},
   "outputs": [],
   "source": [
    "prime_list"
   ]
  },
  {
   "cell_type": "code",
   "execution_count": null,
   "id": "45767488",
   "metadata": {},
   "outputs": [],
   "source": [
    "ext= [11, 13, 17]\n",
    "prime_list"
   ]
  },
  {
   "cell_type": "code",
   "execution_count": null,
   "id": "6871480d",
   "metadata": {},
   "outputs": [],
   "source": [
    "reverse = [prime_list]"
   ]
  },
  {
   "cell_type": "code",
   "execution_count": null,
   "id": "882867d5",
   "metadata": {},
   "outputs": [],
   "source": [
    "first_tuple =(10,\"hello\", True)"
   ]
  },
  {
   "cell_type": "code",
   "execution_count": null,
   "id": "bd83b2d0",
   "metadata": {},
   "outputs": [],
   "source": [
    "first_tuple"
   ]
  },
  {
   "cell_type": "code",
   "execution_count": null,
   "id": "2f95287f",
   "metadata": {},
   "outputs": [],
   "source": [
    "first_tuple.append (100.56)"
   ]
  },
  {
   "cell_type": "code",
   "execution_count": null,
   "id": "66933d93",
   "metadata": {},
   "outputs": [],
   "source": [
    "# Dictionaries\n"
   ]
  },
  {
   "cell_type": "code",
   "execution_count": 5,
   "id": "50f1a9d4",
   "metadata": {},
   "outputs": [
    {
     "data": {
      "text/plain": [
       "dict"
      ]
     },
     "execution_count": 5,
     "metadata": {},
     "output_type": "execute_result"
    }
   ],
   "source": [
    "dictl={}\n",
    "type(dictl)"
   ]
  },
  {
   "cell_type": "code",
   "execution_count": 12,
   "id": "bc35d082",
   "metadata": {},
   "outputs": [],
   "source": [
    "dict1={\"Name\": \"Codeclan\", \"Location\": \"Edinburgh\", \"Day\":1}"
   ]
  },
  {
   "cell_type": "code",
   "execution_count": 13,
   "id": "4b757eb0",
   "metadata": {},
   "outputs": [
    {
     "data": {
      "text/plain": [
       "{'Name': 'Codeclan', 'Location': 'Edinburgh', 'Day': 1}"
      ]
     },
     "execution_count": 13,
     "metadata": {},
     "output_type": "execute_result"
    }
   ],
   "source": [
    "dict1"
   ]
  },
  {
   "cell_type": "code",
   "execution_count": 15,
   "id": "acce17c0",
   "metadata": {},
   "outputs": [
    {
     "data": {
      "text/plain": [
       "1"
      ]
     },
     "execution_count": 15,
     "metadata": {},
     "output_type": "execute_result"
    }
   ],
   "source": [
    "dict1[\"Day\"]"
   ]
  },
  {
   "cell_type": "code",
   "execution_count": 17,
   "id": "d40280b9",
   "metadata": {},
   "outputs": [
    {
     "data": {
      "text/plain": [
       "dict_keys(['Name', 'Location', 'Day'])"
      ]
     },
     "execution_count": 17,
     "metadata": {},
     "output_type": "execute_result"
    }
   ],
   "source": [
    "dict1.keys()"
   ]
  },
  {
   "cell_type": "code",
   "execution_count": 18,
   "id": "6b355275",
   "metadata": {},
   "outputs": [
    {
     "data": {
      "text/plain": [
       "dict_values(['Codeclan', 'Edinburgh', 1])"
      ]
     },
     "execution_count": 18,
     "metadata": {},
     "output_type": "execute_result"
    }
   ],
   "source": [
    "dict1.values()"
   ]
  },
  {
   "cell_type": "code",
   "execution_count": null,
   "id": "c8bba77d",
   "metadata": {},
   "outputs": [],
   "source": []
  }
 ],
 "metadata": {
  "kernelspec": {
   "display_name": "Python 3 (ipykernel)",
   "language": "python",
   "name": "python3"
  },
  "language_info": {
   "codemirror_mode": {
    "name": "ipython",
    "version": 3
   },
   "file_extension": ".py",
   "mimetype": "text/x-python",
   "name": "python",
   "nbconvert_exporter": "python",
   "pygments_lexer": "ipython3",
   "version": "3.9.12"
  },
  "varInspector": {
   "cols": {
    "lenName": 16,
    "lenType": 16,
    "lenVar": 40
   },
   "kernels_config": {
    "python": {
     "delete_cmd_postfix": "",
     "delete_cmd_prefix": "del ",
     "library": "var_list.py",
     "varRefreshCmd": "print(var_dic_list())"
    },
    "r": {
     "delete_cmd_postfix": ") ",
     "delete_cmd_prefix": "rm(",
     "library": "var_list.r",
     "varRefreshCmd": "cat(var_dic_list()) "
    }
   },
   "types_to_exclude": [
    "module",
    "function",
    "builtin_function_or_method",
    "instance",
    "_Feature"
   ],
   "window_display": false
  }
 },
 "nbformat": 4,
 "nbformat_minor": 5
}
